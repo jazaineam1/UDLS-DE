{
 "cells": [
  {
   "cell_type": "markdown",
   "metadata": {},
   "source": [
    "# Introducción a R\n",
    "\n",
    "## Ingresar datos a R-studio\n",
    "\n",
    "### Preliminares\n",
    "Antes de comenzar es importante tener la estructura de escritura siempre presente:\n",
    "La instrucción en R siempre está compuesta de tres elementos,\n",
    "* **Nombre** que queremos asignarle a nuestra construcción o resultado de un procedimiento\n",
    "* **Función**, indica cuál procedimiento se va a utilizar\n",
    "* **Objet**o, a quién se le va a aplica el procedimiento.\n",
    "La estructura entonces siempre tendrá la forma:\n",
    "\n",
    "```r\n",
    "Nombre<-función(objeto)\n",
    "```\n",
    "***\n",
    "* También es necesario recordar que como nos encontramos en un entorno de idioma inglés no se deben usar “ñ” ni acentos.\n",
    "* En los nombres no se deben dejar espacios en blanco ni se puede comenzar con número o símbolo.\n",
    "* Se utiliza la “,” para realizar separaciones y el “.” para expresar decimales.\n",
    "\n"
   ]
  },
  {
   "cell_type": "markdown",
   "metadata": {},
   "source": [
    "### Ingreso de datos como vector.\n",
    "\n",
    "Para ingresar datos de tipo cuantitativo utilizaremos este enunciado tomado del texto guía, Moore, D. S., & Kirkland, S. (2007). The basic practice of statistics (Vol. 2). New York: WH Freeman.\n",
    "The earth is interconnected. For example, it appears that El Niño, the periodic warming of the Pacific Ocean west of South America, affects the monsoon rains that are essential for agriculture in India. Here are the monsoon rains (in millimeters) for the 23 strong El Niño years between 1871 and 2004:\n",
    "628 , 669, 740, 651, 710, 736, 717, 698, 653, 604, 781, 784, 790, 811, 830, 858, 858, 896, 806, 790, 792, 957, 872\n",
    "En Rstudio, en la ventana console, ingresamos la siguiente instrucción:\n",
    "```r\n",
    "Monsoon<-c(628 , 669, 740, 651, 710, 736, 717, 698, 653, 604, 781, 784, 790, 811, 830, 858, 858, 896, 806, 790, 792, 957, 872)\n",
    "```\n",
    "\n",
    "![](c1.JPG)"
   ]
  },
  {
   "attachments": {},
   "cell_type": "markdown",
   "metadata": {},
   "source": [
    "Para ingresar datos de tipo cualitativo utilizaremos este enunciado tomado del texto Ross, S. M. (2007). Introducción a la Estadística. Reverté.\n",
    "\n",
    "Los siguientes datos muestran los tipos de sangre de 50 donantes voluntarios en cierta clínica:\n",
    "\n",
    "O, A, O, AB, A, A, O, O, B, A, O, A, AB, B, O, O, O, A, B, A, A, O, A, A, O, B , A, O, AB, A, O, O, A, B, A, A, A, O, B, O, O, A, O, A, B, O, AB, A, O, B\n",
    "\n",
    "En Rstudio, en la ventana console, ingresamos la siguiente instrucción:\n",
    "\n",
    "```r\n",
    "sangre<-c(\"O\", \"A\", \"O\", \"AB\", \"A\", \"A\", \"O\", \"O\", \"B\", \"A\", \"O\", \"A\", \"AB\",\"B\", \"O\", \"O\", \"O\", \"A\", \"B\", \"A\", \"A\", \"O\", \"A\", \"A\", \"O\", \"B\" , \"A\", \"O\", \"AB\", \"A\", \"O\", \"O\", \"A\", \"B\", \"A\", \"A\", \"A\", \"O\", \"B\", \"O\", \"O\", \"A\", \"O\", \"A\", \"B\", \"O\", \"AB\", \"A\", \"O\", \"B\")\n",
    "```\n",
    "![](c2.JPG)\n"
   ]
  },
  {
   "attachments": {},
   "cell_type": "markdown",
   "metadata": {},
   "source": [
    "## Ingreso de información como una base de datos.\n",
    "\n",
    "Vamos a utilizar los siguientes datos para ingresar en RStudio\n",
    "```r\n",
    "DATOS<-data.frame()\n",
    "DATOS<-edit(DATOS)\n",
    "```\n",
    "\n",
    "Con la primera instrucción se está construyendo una base de datos (data.frame) cuyo nombre es DATOS\n",
    "Con la segunda instrucción se van a ingresar la información al objeto DATOS\n",
    "![](c3.JPG)\n",
    "\n",
    "![](c4.JPG)\n",
    "![](c5.JPG)\n",
    "Al ingresar el nombre de la variable se encuentra la opción para indicar si los datos son numéricos o categóricos\n",
    "![](c6.JPG)\n",
    "![](c7.JPG)\n",
    "\n",
    "### Guardar la base de datos creada\n",
    "\n",
    "Se utiliza la instrucción\n",
    "```r \n",
    "write.csv(DATOS, file=\"DATOS.csv\")\n",
    "```\n",
    "para guardar la base creada\n",
    "![](c8.JPG)\n",
    "El archivo queda guardado en la carpeta de Documentos\n",
    "Con la instrucción \n",
    "```r\n",
    "View(DATOS)\n",
    "```\n",
    "se abre una ventana que nos muestra los datos que se acaban de ingresar"
   ]
  },
  {
   "attachments": {},
   "cell_type": "markdown",
   "metadata": {},
   "source": [
    "### Importar base de datos desde Excel o extensión CSV.\n",
    "\n",
    "De preferencia el nombre del archivo que sea corto y sin símbolos, “ñ”, o acentos.\n",
    "También se recomienda que sea de fácil acceso, que el acceso de directorio sea corto.\n",
    "![](c9.JPG)\n",
    "Desde Browse ubicamos el archivo que se quiere importar.\n",
    "![](c10.JPG)\n",
    "Se selecciona el archivo\n",
    "![](C11.JPG)\n",
    "y se importa \n",
    "![](C12.JPG)\n",
    "Se siguen los mismos pasos para importar un conjunto de datos con extensión csv."
   ]
  }
 ],
 "metadata": {
  "kernelspec": {
   "display_name": "R",
   "language": "R",
   "name": "ir"
  },
  "language_info": {
   "codemirror_mode": "r",
   "file_extension": ".r",
   "mimetype": "text/x-r-source",
   "name": "R",
   "pygments_lexer": "r",
   "version": "4.0.2"
  },
  "latex_envs": {
   "LaTeX_envs_menu_present": true,
   "autoclose": false,
   "autocomplete": true,
   "bibliofile": "biblio.bib",
   "cite_by": "apalike",
   "current_citInitial": 1,
   "eqLabelWithNumbers": true,
   "eqNumInitial": 1,
   "hotkeys": {
    "equation": "Ctrl-E",
    "itemize": "Ctrl-I"
   },
   "labels_anchors": false,
   "latex_user_defs": false,
   "report_style_numbering": false,
   "user_envs_cfg": false
  },
  "toc": {
   "base_numbering": 1,
   "nav_menu": {},
   "number_sections": false,
   "sideBar": true,
   "skip_h1_title": false,
   "title_cell": "Table of Contents",
   "title_sidebar": "Contents",
   "toc_cell": false,
   "toc_position": {
    "height": "calc(100% - 180px)",
    "left": "10px",
    "top": "150px",
    "width": "303.542px"
   },
   "toc_section_display": true,
   "toc_window_display": false
  },
  "varInspector": {
   "cols": {
    "lenName": 16,
    "lenType": 16,
    "lenVar": 40
   },
   "kernels_config": {
    "python": {
     "delete_cmd_postfix": "",
     "delete_cmd_prefix": "del ",
     "library": "var_list.py",
     "varRefreshCmd": "print(var_dic_list())"
    },
    "r": {
     "delete_cmd_postfix": ") ",
     "delete_cmd_prefix": "rm(",
     "library": "var_list.r",
     "varRefreshCmd": "cat(var_dic_list()) "
    }
   },
   "types_to_exclude": [
    "module",
    "function",
    "builtin_function_or_method",
    "instance",
    "_Feature"
   ],
   "window_display": false
  }
 },
 "nbformat": 4,
 "nbformat_minor": 4
}
